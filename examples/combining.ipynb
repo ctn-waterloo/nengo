{
 "metadata": {
  "name": ""
 },
 "nbformat": 3,
 "nbformat_minor": 0,
 "worksheets": [
  {
   "cells": [
    {
     "cell_type": "markdown",
     "source": [
      "# Nengo Example: Combining\n",
      "\n",
      "This example demonstrates how to create a neuronal ensemble that will combine two 1-D inputs into one 2-D representation."
     ]
    },
    {
     "cell_type": "markdown",
     "source": [
      "## Step 1: Create the neural populations \n",
      "\n",
      "Our model consists of three ensembles, two input ensembles and one 2-D ensemble that will represent the two inputs as one two-dimensional signal."
     ]
    },
    {
     "cell_type": "code",
     "collapsed": false,
     "input": [
      "import nengo\n",
      "model = nengo.Model('Combining')\n",
      "\n",
      "with model:\n",
      "    # Our input ensembles consist of 100 leaky integrate-and-fire neurons,\n",
      "    # representing a one-dimensional signal\n",
      "    a = nengo.Ensemble(nengo.LIF(100), dimensions=1, label=\"a\")\n",
      "    b = nengo.Ensemble(nengo.LIF(100), dimensions=1, label=\"b\")\n",
      "\n",
      "    # The output ensemble consists of 200 leaky integrate-and-fire neurons,\n",
      "    # representing a two-dimensional signal\n",
      "    c = nengo.Ensemble(nengo.LIF(200), dimensions=2, label=\"2D Population\")"
     ],
     "language": "python",
     "outputs": []
    },
    {
     "cell_type": "markdown",
     "source": [
      "## Step 2: Create input for the model\n",
      "\n",
      "We will use sine and cosine waves as examples of continuously changing signals."
     ]
    },
    {
     "cell_type": "code",
     "collapsed": false,
     "input": [
      "import numpy as np\n",
      "\n",
      "with model:\n",
      "    # Create input nodes generating the sine and cosine\n",
      "    sin = nengo.Node(output=np.sin, label=\"Sine\")\n",
      "    cos = nengo.Node(output=np.cos, label=\"Cosine\")"
     ],
     "language": "python",
     "outputs": []
    },
    {
     "cell_type": "markdown",
     "source": [
      "## Step 3: Connect the network elements"
     ]
    },
    {
     "cell_type": "code",
     "collapsed": false,
     "input": [
      "with model:\n",
      "    # The transform defines which dimension the input will project to\n",
      "    nengo.Connection(sin, a)\n",
      "    nengo.Connection(cos, b)\n",
      "\n",
      "    # The transform defines which dimension the input will project to\n",
      "    nengo.Connection(a, c, transform=[[1], [0]])\n",
      "    nengo.Connection(b, c, transform=[[0], [1]])"
     ],
     "language": "python",
     "outputs": []
    },
    {
     "cell_type": "markdown",
     "source": [
      "## Step 4: Probe outputs\n",
      "\n",
      "Anything that is probed will collect the data it produces over time, allowing us to analyze and visualize it later."
     ]
    },
    {
     "cell_type": "code",
     "collapsed": false,
     "input": [
      "with model:\n",
      "    sin_p = nengo.Probe(sin)\n",
      "    cos_p = nengo.Probe(cos)\n",
      "    a_p = nengo.Probe(a, filter=0.01) #10ms filter\n",
      "    b_p = nengo.Probe(b, filter=0.01) #10ms filter\n",
      "    c_p = nengo.Probe(c, filter=0.01) #10ms filter"
     ],
     "language": "python",
     "outputs": []
    },
    {
     "cell_type": "markdown",
     "source": [
      "## Step 5: Run the model"
     ]
    },
    {
     "cell_type": "code",
     "collapsed": false,
     "input": [
      "# Create our simulator\n",
      "sim = nengo.Simulator(model, dt=0.001)\n",
      "# Run it for 5 seconds\n",
      "sim.run(5)"
     ],
     "language": "python",
     "outputs": []
    },
    {
     "cell_type": "markdown",
     "source": [
      "## Step 6: Plot the results"
     ]
    },
    {
     "cell_type": "code",
     "collapsed": false,
     "input": [
      "import matplotlib.pyplot as plt\n",
      "# Plot the decoded output of the ensemble\n",
      "sim.plot(c_p)\n",
      "sim.plot(a_p)\n",
      "sim.plot(sin_p, 'k')\n",
      "plt.legend();"
     ],
     "language": "python",
     "outputs": []
    },
    {
     "cell_type": "markdown",
     "source": [
      "The graph shows that the input signal (Sine), the output from the 1D population (A output), and the 2D population (blue line) are all equal.  The other dimension in the 2D population is shown in green."
     ]
    }
   ]
  }
 ]
}
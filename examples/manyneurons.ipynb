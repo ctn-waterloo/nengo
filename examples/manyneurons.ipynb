{
 "metadata": {
  "name": "manyneurons"
 },
 "nbformat": 3,
 "nbformat_minor": 0,
 "worksheets": [
  {
   "cells": [
    {
     "cell_type": "markdown",
     "metadata": {},
     "source": [
      "# Nengo Example: Many neurons\n",
      "\n",
      "This demo shows how to construct and manipulate a population of neurons.\n",
      "\n",
      "These are 100 leaky integrate-and-fire (LIF) neurons. The neuron tuning properties have been randomly selected.\n",
      "\n",
      "The input is a sine wave to show the effects of increasing or decreasing input. As a population, these neurons do a good job of representing a single scalar value. This can be seen by the fact that the input graph and neurons graphs match well."
     ]
    },
    {
     "cell_type": "markdown",
     "metadata": {},
     "source": [
      "## Step 1: Create the neural population\n",
      "\n",
      "Our model consists of a single population of neurons."
     ]
    },
    {
     "cell_type": "code",
     "collapsed": false,
     "input": [
      "import nengo\n",
      "model = nengo.Model('Many Neurons')\n",
      "\n",
      "# Our ensemble consists of 100 leaky integrate-and-fire neurons,\n",
      "# representing a one-dimensional signal\n",
      "model.make_ensemble('A', nengo.LIF(100), dimensions=1)"
     ],
     "language": "python",
     "metadata": {},
     "outputs": [
      {
       "output_type": "pyout",
       "prompt_number": 44,
       "text": [
        "<nengo.objects.Ensemble at 0x113ce4550>"
       ]
      }
     ],
     "prompt_number": 44
    },
    {
     "cell_type": "markdown",
     "metadata": {},
     "source": [
      "## Step 2: Create input for the model\n",
      "\n",
      "We will use a sine wave as a continuously changing input."
     ]
    },
    {
     "cell_type": "code",
     "collapsed": false,
     "input": [
      "import numpy as np\n",
      "    \n",
      "model.make_node('Input', output=lambda t: np.sin(8*t))  #Input is a sine"
     ],
     "language": "python",
     "metadata": {},
     "outputs": [
      {
       "output_type": "pyout",
       "prompt_number": 45,
       "text": [
        "<nengo.objects.Node at 0x1100879d0>"
       ]
      }
     ],
     "prompt_number": 45
    },
    {
     "cell_type": "markdown",
     "metadata": {},
     "source": [
      "## Step 3: Connect the network elements"
     ]
    },
    {
     "cell_type": "code",
     "collapsed": false,
     "input": [
      "# Connect the input to the population\n",
      "model.connect('Input', 'A', filter=0.01) #10ms filter"
     ],
     "language": "python",
     "metadata": {},
     "outputs": [
      {
       "output_type": "pyout",
       "prompt_number": 46,
       "text": [
        "Input>A (DecodedConnection)"
       ]
      }
     ],
     "prompt_number": 46
    },
    {
     "cell_type": "markdown",
     "metadata": {},
     "source": [
      "## Step 4: Probe outputs\n",
      "\n",
      "Anything that is probed will collect the data it produces over time, allowing us to analyze and visualize it later."
     ]
    },
    {
     "cell_type": "code",
     "collapsed": false,
     "input": [
      "model.probe('Input')\n",
      "model.probe('A', filter=0.01) #10ms filter\n",
      "model.probe('A.spikes') #Collect the spikes"
     ],
     "language": "python",
     "metadata": {},
     "outputs": [],
     "prompt_number": 47
    },
    {
     "cell_type": "markdown",
     "metadata": {},
     "source": [
      "## Step 5: Run the model"
     ]
    },
    {
     "cell_type": "code",
     "collapsed": false,
     "input": [
      "# Create our simulator\n",
      "sim = model.simulator()\n",
      "# Run it for 1 second\n",
      "sim.run(1)"
     ],
     "language": "python",
     "metadata": {},
     "outputs": [],
     "prompt_number": 48
    },
    {
     "cell_type": "markdown",
     "metadata": {},
     "source": [
      "## Step 6: Plot the results"
     ]
    },
    {
     "cell_type": "code",
     "collapsed": false,
     "input": [
      "%matplotlib inline\n",
      "import matplotlib.pyplot as plt\n",
      "\n",
      "# Plot the decoded output of the ensemble\n",
      "t = sim.data(model.t) #Get the time steps\n",
      "plt.plot(t, sim.data('A'), label=\"A output\")\n",
      "plt.plot(t, sim.data('Input'), 'r', label=\"Input\")\n",
      "plt.legend()\n",
      "\n",
      "# Plot the spiking output of the ensemble\n",
      "figure()\n",
      "tmp=sim.data('A.spikes')\n",
      "for i in arange(0,tmp.shape[1],2):\n",
      "    plot(t[tmp[:,i]>0],ones_like(where(tmp[:,i]>0)).T+i,'k,')"
     ],
     "language": "python",
     "metadata": {},
     "outputs": [
      {
       "output_type": "stream",
       "stream": "stderr",
       "text": [
        "ERROR: Line magic function `%matplotlib` not found."
       ]
      },
      {
       "output_type": "display_data",
       "png": "[encoded data removed]"
      },
      {
       "output_type": "display_data",
       "png": "[encoded data removed]"
      }
     ],
     "prompt_number": 84
    },
    {
     "cell_type": "markdown",
     "metadata": {},
     "source": [
      "The graph shows the decoded response of the neural spiking.  This many neurons does a very good job of representing its input."
     ]
    },
    {
     "cell_type": "code",
     "collapsed": false,
     "input": [],
     "language": "python",
     "metadata": {},
     "outputs": []
    }
   ],
   "metadata": {}
  }
 ]
}
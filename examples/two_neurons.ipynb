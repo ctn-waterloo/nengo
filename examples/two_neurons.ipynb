{
 "metadata": {
  "name": ""
 },
 "nbformat": 3,
 "nbformat_minor": 0,
 "worksheets": [
  {
   "cells": [
    {
     "cell_type": "markdown",
     "metadata": {},
     "source": [
      "# Nengo Example: Two Neurons\n",
      "\n",
      "This demo shows how to construct and manipulate a complementary pair of neurons.\n",
      "\n",
      "These are leaky integrate-and-fire (LIF) neurons. The neuron tuning properties have been selected so there is one \u2018on\u2019 and one \u2018off\u2019 neuron.\n",
      "\n",
      "One neuron will increase for positive input, and the other will decrease. This can be thought of as the simplest population that is able to give a reasonable representation of a scalar value."
     ]
    },
    {
     "cell_type": "markdown",
     "metadata": {},
     "source": [
      "## Step 1: Create the neurons "
     ]
    },
    {
     "cell_type": "code",
     "collapsed": false,
     "input": [
      "import nengo\n",
      "from nengo.objects import Uniform\n",
      "\n",
      "model = nengo.Model('Two Neurons')\n",
      "\n",
      "model.make_ensemble('Neurons', \n",
      "                    nengo.LIF(2), #\n",
      "                    dimensions=1, # Representing a scalar\n",
      "                    intercepts=Uniform(-.5, -.5), #Set the intercepts at .5\n",
      "                    max_rates=Uniform(100,100), #Set the max firing rate at 100hz\n",
      "                    encoders=[[1],[-1]]) #One 'on' and one 'off' neuron"
     ],
     "language": "python",
     "metadata": {},
     "outputs": [
      {
       "metadata": {},
       "output_type": "pyout",
       "prompt_number": 1,
       "text": [
        "<nengo.objects.Ensemble at 0x104571250>"
       ]
      }
     ],
     "prompt_number": 1
    },
    {
     "cell_type": "markdown",
     "metadata": {},
     "source": [
      "## Step 2: Create input for the model\n",
      "\n",
      "Create an input node generating a sine wave."
     ]
    },
    {
     "cell_type": "code",
     "collapsed": false,
     "input": [
      "import numpy as np\n",
      "\n",
      "model.make_node('Sine', output=lambda t: np.sin(8*t))"
     ],
     "language": "python",
     "metadata": {},
     "outputs": [
      {
       "metadata": {},
       "output_type": "pyout",
       "prompt_number": 2,
       "text": [
        "<nengo.objects.Node at 0x103515a50>"
       ]
      }
     ],
     "prompt_number": 2
    },
    {
     "cell_type": "markdown",
     "metadata": {},
     "source": [
      "## Step 3: Connect the network elements"
     ]
    },
    {
     "cell_type": "code",
     "collapsed": false,
     "input": [
      "model.connect('Sine', 'Neurons', filter = 0.01)"
     ],
     "language": "python",
     "metadata": {},
     "outputs": [
      {
       "metadata": {},
       "output_type": "pyout",
       "prompt_number": 3,
       "text": [
        "Sine>Neurons (NonlinearityConnection)"
       ]
      }
     ],
     "prompt_number": 3
    },
    {
     "cell_type": "markdown",
     "metadata": {},
     "source": [
      "## Step 4: Probe outputs\n",
      "\n",
      "Anything that is probed will collect the data it produces over time, allowing us to analyze and visualize it later."
     ]
    },
    {
     "cell_type": "code",
     "collapsed": false,
     "input": [
      "model.probe('Sine') # The original input\n",
      "model.probe('Neurons.spikes') # Raw spikes from each neuron\n",
      "model.probe('Neurons.voltages') # Subthreshold soma voltages of the neurons\n",
      "model.probe('Neurons', filter = 0.01) # Spikes filtered by a 10ms post-synaptic filter"
     ],
     "language": "python",
     "metadata": {},
     "outputs": [],
     "prompt_number": 4
    },
    {
     "cell_type": "markdown",
     "metadata": {},
     "source": [
      "## Step 5: Run the model"
     ]
    },
    {
     "cell_type": "code",
     "collapsed": false,
     "input": [
      "sim = model.simulator() #Create a simulator\n",
      "sim.run(1) # Run it for 5 seconds"
     ],
     "language": "python",
     "metadata": {},
     "outputs": [
      {
       "ename": "TypeError",
       "evalue": "an integer is required",
       "output_type": "pyerr",
       "traceback": [
        "\u001b[0;31m---------------------------------------------------------------------------\u001b[0m\n\u001b[0;31mTypeError\u001b[0m                                 Traceback (most recent call last)",
        "\u001b[0;32m<ipython-input-5-437f55d178e9>\u001b[0m in \u001b[0;36m<module>\u001b[0;34m()\u001b[0m\n\u001b[0;32m----> 1\u001b[0;31m \u001b[0msim\u001b[0m \u001b[0;34m=\u001b[0m \u001b[0mmodel\u001b[0m\u001b[0;34m.\u001b[0m\u001b[0msimulator\u001b[0m\u001b[0;34m(\u001b[0m\u001b[0;34m)\u001b[0m \u001b[0;31m#Create a simulator\u001b[0m\u001b[0;34m\u001b[0m\u001b[0m\n\u001b[0m\u001b[1;32m      2\u001b[0m \u001b[0msim\u001b[0m\u001b[0;34m.\u001b[0m\u001b[0mrun\u001b[0m\u001b[0;34m(\u001b[0m\u001b[0;36m1\u001b[0m\u001b[0;34m)\u001b[0m \u001b[0;31m# Run it for 5 seconds\u001b[0m\u001b[0;34m\u001b[0m\u001b[0m\n",
        "\u001b[0;32m/Users/celiasmi/Documents/nengo/nengo/nengo/model.pyc\u001b[0m in \u001b[0;36msimulator\u001b[0;34m(self, dt, sim_class, **sim_args)\u001b[0m\n\u001b[1;32m    257\u001b[0m         \u001b[0mmodelcopy\u001b[0m\u001b[0;34m.\u001b[0m\u001b[0mmemo\u001b[0m \u001b[0;34m=\u001b[0m \u001b[0mmemo\u001b[0m\u001b[0;34m\u001b[0m\u001b[0m\n\u001b[1;32m    258\u001b[0m         \u001b[0mself\u001b[0m\u001b[0;34m.\u001b[0m\u001b[0mprep_for_simulation\u001b[0m\u001b[0;34m(\u001b[0m\u001b[0mmodelcopy\u001b[0m\u001b[0;34m,\u001b[0m \u001b[0mdt\u001b[0m\u001b[0;34m)\u001b[0m\u001b[0;34m\u001b[0m\u001b[0m\n\u001b[0;32m--> 259\u001b[0;31m         \u001b[0;32mreturn\u001b[0m \u001b[0msim_class\u001b[0m\u001b[0;34m(\u001b[0m\u001b[0mmodelcopy\u001b[0m\u001b[0;34m,\u001b[0m \u001b[0;34m**\u001b[0m\u001b[0msim_args\u001b[0m\u001b[0;34m)\u001b[0m\u001b[0;34m\u001b[0m\u001b[0m\n\u001b[0m\u001b[1;32m    260\u001b[0m \u001b[0;34m\u001b[0m\u001b[0m\n\u001b[1;32m    261\u001b[0m     \u001b[0;31m### Model manipulation\u001b[0m\u001b[0;34m\u001b[0m\u001b[0;34m\u001b[0m\u001b[0m\n",
        "\u001b[0;32m/Users/celiasmi/Documents/nengo/nengo/nengo/simulator.pyc\u001b[0m in \u001b[0;36m__init__\u001b[0;34m(self, model)\u001b[0m\n\u001b[1;32m    381\u001b[0m         \u001b[0mself\u001b[0m\u001b[0;34m.\u001b[0m\u001b[0mmodel\u001b[0m \u001b[0;34m=\u001b[0m \u001b[0mmodel\u001b[0m\u001b[0;34m\u001b[0m\u001b[0m\n\u001b[1;32m    382\u001b[0m         \u001b[0;32mfor\u001b[0m \u001b[0mop\u001b[0m \u001b[0;32min\u001b[0m \u001b[0mmodel\u001b[0m\u001b[0;34m.\u001b[0m\u001b[0m_operators\u001b[0m\u001b[0;34m:\u001b[0m\u001b[0;34m\u001b[0m\u001b[0m\n\u001b[0;32m--> 383\u001b[0;31m             \u001b[0mop\u001b[0m\u001b[0;34m.\u001b[0m\u001b[0minit_sigdict\u001b[0m\u001b[0;34m(\u001b[0m\u001b[0mself\u001b[0m\u001b[0;34m.\u001b[0m\u001b[0m_sigdict\u001b[0m\u001b[0;34m,\u001b[0m \u001b[0mmodel\u001b[0m\u001b[0;34m.\u001b[0m\u001b[0mdt\u001b[0m\u001b[0;34m)\u001b[0m\u001b[0;34m\u001b[0m\u001b[0m\n\u001b[0m\u001b[1;32m    384\u001b[0m \u001b[0;34m\u001b[0m\u001b[0m\n\u001b[1;32m    385\u001b[0m         \u001b[0mself\u001b[0m\u001b[0;34m.\u001b[0m\u001b[0mdg\u001b[0m \u001b[0;34m=\u001b[0m \u001b[0mself\u001b[0m\u001b[0;34m.\u001b[0m\u001b[0m_init_dg\u001b[0m\u001b[0;34m(\u001b[0m\u001b[0;34m)\u001b[0m\u001b[0;34m\u001b[0m\u001b[0m\n",
        "\u001b[0;32m/Users/celiasmi/Documents/nengo/nengo/nengo/simulator.pyc\u001b[0m in \u001b[0;36minit_sigdict\u001b[0;34m(self, sigdict, dt)\u001b[0m\n\u001b[1;32m    156\u001b[0m                 sigdict[sig.base] = np.zeros(\n\u001b[1;32m    157\u001b[0m                     \u001b[0msig\u001b[0m\u001b[0;34m.\u001b[0m\u001b[0mbase\u001b[0m\u001b[0;34m.\u001b[0m\u001b[0mshape\u001b[0m\u001b[0;34m,\u001b[0m\u001b[0;34m\u001b[0m\u001b[0m\n\u001b[0;32m--> 158\u001b[0;31m                     \u001b[0mdtype\u001b[0m\u001b[0;34m=\u001b[0m\u001b[0msig\u001b[0m\u001b[0;34m.\u001b[0m\u001b[0mbase\u001b[0m\u001b[0;34m.\u001b[0m\u001b[0mdtype\u001b[0m\u001b[0;34m,\u001b[0m\u001b[0;34m\u001b[0m\u001b[0m\n\u001b[0m\u001b[1;32m    159\u001b[0m                     ) + getattr(sig.base, 'value', 0)\n\u001b[1;32m    160\u001b[0m \u001b[0;34m\u001b[0m\u001b[0m\n",
        "\u001b[0;31mTypeError\u001b[0m: an integer is required"
       ]
      }
     ],
     "prompt_number": 5
    },
    {
     "cell_type": "markdown",
     "metadata": {},
     "source": [
      "## Step 6: Plot the results"
     ]
    },
    {
     "cell_type": "code",
     "collapsed": false,
     "input": [
      "%matplotlib inline\n",
      "import matplotlib.pyplot as plt\n",
      "# Plot the decoded output of the ensemble\n",
      "t = sim.data(model.t) #Get the time steps\n",
      "plt.plot(t, sim.data('Neurons'))\n",
      "plt.plot(t, sim.data('Sine'))\n",
      "\n",
      "\n",
      "# Plot the spiking output of the ensemble\n",
      "plt.figure()\n",
      "data=sim.data('Neurons.spikes')\n",
      "plt.plot(t[data[:,0]>0],np.ones_like(np.where(data[:,0]>0)).T+1,'r,', label=\"On neuron\")\n",
      "plt.plot(t[data[:,1]>0],np.ones_like(np.where(data[:,1]>0)).T,'k,', label=\"Off neuron\")\n",
      "plt.axis([0,1,0,2.5])\n",
      "plt.legend()\n",
      "\n",
      "# Plot the soma voltages of the neurons\n",
      "plt.plot(t, sim.data('Neurons.voltages'))\n"
     ],
     "language": "python",
     "metadata": {},
     "outputs": []
    },
    {
     "cell_type": "markdown",
     "metadata": {},
     "source": [
      "The top graph shows that the input signal in green and the filtered output spikes from the two neurons population in blue.  The spikes (that are filtered) from the 'on' and 'off' neurons are shown in the bottom graph."
     ]
    }
   ],
   "metadata": {}
  }
 ]
}
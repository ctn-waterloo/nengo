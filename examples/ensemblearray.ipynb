{
 "metadata": {
  "name": ""
 },
 "nbformat": 3,
 "nbformat_minor": 0,
 "worksheets": [
  {
   "cells": [
    {
     "cell_type": "markdown",
     "metadata": {},
     "source": [
      "# Nengo Template: Ensemble Array\n",
      "\n",
      "An ensemble array is a group of ensembles that each represent a part of the overall signal.\n",
      "\n",
      "Ensemble arrays can be used like a normal ensemble. The major difference is that, in an ensemble array, the components of the overall signal are not related."
     ]
    },
    {
     "cell_type": "code",
     "collapsed": false,
     "input": [
      "### do some setup before we start\n",
      "%matplotlib inline\n",
      "import matplotlib.pyplot as plt\n",
      "import numpy as np"
     ],
     "language": "python",
     "metadata": {},
     "outputs": [],
     "prompt_number": 1
    },
    {
     "cell_type": "code",
     "collapsed": false,
     "input": [
      "import nengo\n",
      "model = nengo.Model(\"Ensemble Array Test\")\n",
      "\n",
      "input = model.make_node('input', lambda t: [np.cos(t), np.sin(t)])"
     ],
     "language": "python",
     "metadata": {},
     "outputs": [],
     "prompt_number": 2
    },
    {
     "cell_type": "code",
     "collapsed": false,
     "input": [
      "from nengo.templates.ensemble_array import EnsembleArray\n",
      "\n",
      "nperd = 100\n",
      "A = model.add(EnsembleArray('A', nengo.LIF(nperd), 2))\n",
      "B = model.make_ensemble('B', nengo.LIF(nperd * 2), 2)\n",
      "C = model.add(EnsembleArray('C', nengo.LIF(nperd), 2))\n",
      "model.connect(input, A)\n",
      "model.connect(A, B)\n",
      "model.connect(B, C)\n",
      "\n",
      "model.probe(input)\n",
      "model.probe(A, filter=0.02)\n",
      "model.probe(B, filter=0.02)\n",
      "model.probe(C, filter=0.02)\n",
      "model.run(10)"
     ],
     "language": "python",
     "metadata": {},
     "outputs": [
      {
       "metadata": {},
       "output_type": "pyout",
       "prompt_number": 4,
       "text": [
        "{<nengo.objects.Ensemble at 0x26a0350>: array([[ 0.        ,  0.        ],\n",
        "       [ 0.        ,  0.        ],\n",
        "       [ 0.        ,  0.        ],\n",
        "       ..., \n",
        "       [-0.84392861, -0.53434233],\n",
        "       [-0.85377749, -0.519775  ],\n",
        "       [-0.87693928, -0.50560287]]),\n",
        " <nengo.templates.ensemble_array.EnsembleArray at 0x269fc90>: array([[ 0.        ,  0.        ],\n",
        "       [ 0.        ,  0.        ],\n",
        "       [ 0.        ,  0.        ],\n",
        "       ..., \n",
        "       [-0.86350267, -0.52938584],\n",
        "       [-0.85794888, -0.52644996],\n",
        "       [-0.84804583, -0.52291402]]),\n",
        " <nengo.templates.ensemble_array.EnsembleArray at 0x26a0590>: array([[ 0.        ,  0.        ],\n",
        "       [ 0.        ,  0.        ],\n",
        "       [ 0.        ,  0.        ],\n",
        "       ..., \n",
        "       [-0.86570566, -0.52213283],\n",
        "       [-0.84339657, -0.52237617],\n",
        "       [-0.85409042, -0.52529647]]),\n",
        " <nengo.objects.Node at 0x268dc50>: array([[  1.00000000e+00,   0.00000000e+00],\n",
        "       [  9.99999500e-01,   9.99999833e-04],\n",
        "       [  9.99998000e-01,   1.99999867e-03],\n",
        "       ..., \n",
        "       [ -8.41240895e-01,  -5.40660482e-01],\n",
        "       [ -8.40699814e-01,  -5.41501452e-01],\n",
        "       [ -8.40157892e-01,  -5.42341881e-01]]),\n",
        " Signal(simtime, 1D): array([[  1.00000000e-03],\n",
        "       [  2.00000000e-03],\n",
        "       [  3.00000000e-03],\n",
        "       ..., \n",
        "       [  9.99700000e+00],\n",
        "       [  9.99800000e+00],\n",
        "       [  9.99900000e+00]]),\n",
        " Signal(steps, 1D): array([[  1.00000000e+00],\n",
        "       [  2.00000000e+00],\n",
        "       [  3.00000000e+00],\n",
        "       ..., \n",
        "       [  9.99700000e+03],\n",
        "       [  9.99800000e+03],\n",
        "       [  9.99900000e+03]])}"
       ]
      }
     ],
     "prompt_number": 4
    },
    {
     "cell_type": "code",
     "collapsed": false,
     "input": [
      "t = model.data[model.t]\n",
      "\n",
      "plt.figure(1)\n",
      "plt.clf()\n",
      "plt.plot(t, model.data[input])\n",
      "plt.plot(t, model.data[A])\n",
      "plt.plot(t, model.data[B])\n",
      "plt.plot(t, model.data[C])"
     ],
     "language": "python",
     "metadata": {},
     "outputs": [
      {
       "metadata": {},
       "output_type": "pyout",
       "prompt_number": 5,
       "text": [
        "[<matplotlib.lines.Line2D at 0x3206c50>,\n",
        " <matplotlib.lines.Line2D at 0x31e6c90>]"
       ]
      },
      {
       "metadata": {},
       "output_type": "display_data",
       "png": "[encoded data removed]",
       "text": [
        "<matplotlib.figure.Figure at 0x2698e90>"
       ]
      }
     ],
     "prompt_number": 5
    }
   ],
   "metadata": {}
  }
 ]
}
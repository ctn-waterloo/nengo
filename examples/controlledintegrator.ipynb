{
 "metadata": {
  "name": ""
 },
 "nbformat": 3,
 "nbformat_minor": 0,
 "worksheets": [
  {
   "cells": [
    {
     "cell_type": "markdown",
     "metadata": {},
     "source": [
      "# Nengo Example: Controlled Integrator\n",
      "\n",
      "A controlled integrator is a circuit that acts on two signals:\n",
      "\n",
      "1. Input - the signal being integrated\n",
      "2. Control - the control signal to the integrator\n",
      "\n",
      "A controlled integrator accumulates input, but its state can be directly manipulated by the control signal.\n",
      "We can write the dynamics of a simple controlled integrator like this:\n",
      "\n",
      "$$\n",
      "\\dot{a}(t) = \\mathrm{control}(t) \\cdot a(t) + B \\cdot \\mathrm{input}(t)\n",
      "$$\n",
      "\n",
      "In this notebook, we will build a controlled intgrator with Leaky Integrate and Fire ([LIF](TODO)) neurons.\n",
      "The Neural Engineering Framework ([NEF](TODO)) equivalent equation for this integrator is:\n",
      "\n",
      "$$\n",
      "\\dot{a}(t) = \\mathrm{control}(t) \\cdot a(t) + \\tau \\cdot \\mathrm{input}(t).\n",
      "$$\n",
      "\n",
      "We call the coefficient $\\tau$ here a *recurrent time constant* because it governs the rate of integration.\n",
      "\n",
      "Network behaviour:\n",
      "`A = tau * Input + Input * Control`\n",
      "\n",
      "(MISSING: Network circuit diagram - can maybe generate this in-line?)\n"
     ]
    },
    {
     "cell_type": "markdown",
     "metadata": {},
     "source": [
      "## Step 1: Create the network\n",
      "\n",
      "We can use standard network-creation commands to begin creating our controlled integrator.\n",
      "We create a Network, and then we create a population of neurons (called an *ensemble*).\n",
      "This population of neurons will represent the state of our integrator, and the connections between the neurons in the ensemble will define the dynamics of our integrator."
     ]
    },
    {
     "cell_type": "code",
     "collapsed": false,
     "input": [
      "import nengo\n",
      "from nengo.old_api import Network, compute_transform\n",
      "\n",
      "tau = 0.1\n",
      "\n",
      "# Create the nengo model\n",
      "model = Network('Controlled Integrator')\n",
      "\n",
      " \n",
      "# Create the neuronal ensembles\n",
      "model.make_array('A', 225, 1, 2,                    # Make a population with 225 neurons, \n",
      "                    radius = 1.5)                   #   2 dimensions, and a larger radius \n",
      "                                                    #   to accommodate large simulataneous \n",
      "                                                    #   inputs"
     ],
     "language": "python",
     "metadata": {},
     "outputs": [
      {
       "metadata": {},
       "output_type": "pyout",
       "prompt_number": 38,
       "text": [
        "<nengo.old_api.Ensemble instance at 0x45b0290>"
       ]
      }
     ],
     "prompt_number": 38
    },
    {
     "cell_type": "markdown",
     "metadata": {},
     "source": [
      "## Step 2: Define the 'input' signal to integrate\n",
      "\n",
      "We will be running 1 second of simulation time, so we will use a Python function `input_func` to define our input signal for real values of time `t` from 0 to 1. We'll define our signal to be a step function using if-then-else code. Our piece-wise function sits at 0 until .2 seconds into the simulation, then jumps up to 5, back to 0, down to -10, back to 0, then up to 5, and then back to 0. Our integrator will respond by ramping up when the input is positive, and descending when the input is negative."
     ]
    },
    {
     "cell_type": "code",
     "collapsed": false,
     "input": [
      "def input_func(t):                                  # Create a function that outputs\n",
      "    if t < 0.2:                                     #   5 at time 0.2s, then 0 at time 0.3s,\n",
      "        return [0]                                  #   -10 at time 0.44, then 0 at time 0.8,\n",
      "    elif t < 0.3:                                   #   5 at time 0.8, then 0 at time 0.9\n",
      "        return [5]\n",
      "    elif t < 0.44:\n",
      "        return [0]\n",
      "    elif t < 0.54:\n",
      "        return [-10]\n",
      "    elif t < 0.8:\n",
      "        return [0]\n",
      "    elif t < 0.9:\n",
      "        return [5]\n",
      "    else:\n",
      "        return [0]\n",
      "\n",
      "plot(map(input_func, np.arange(0, 1, .01)))\n"
     ],
     "language": "python",
     "metadata": {},
     "outputs": [
      {
       "metadata": {},
       "output_type": "pyout",
       "prompt_number": 39,
       "text": [
        "[<matplotlib.lines.Line2D at 0x4410890>]"
       ]
      },
      {
       "metadata": {},
       "output_type": "display_data",
       "png": "[encoded data removed]",
       "text": [
        "<matplotlib.figure.Figure at 0x45a8550>"
       ]
      }
     ],
     "prompt_number": 39
    },
    {
     "cell_type": "markdown",
     "metadata": {},
     "source": [
      "We include this input function (`input_func`) into our neural model like this:"
     ]
    },
    {
     "cell_type": "code",
     "collapsed": false,
     "input": [
      "# Define an input signal within our model\n",
      "model.make_input('Input', input_func)\n",
      " \n",
      "# Connect the Input signal to ensemble A.\n",
      "# The `transform` argument means \"connect real-valued signal \"Input\" to the\n",
      "# first of the two input channels of A.\"\n",
      "model.connect('Input', 'A',\n",
      "              #transform=compute_transform(1, 2, 1, 1, index_post=0, weight=tau),\n",
      "              transform=[[tau], [0]],\n",
      "              pstc=0.005,\n",
      "              )"
     ],
     "language": "python",
     "metadata": {},
     "outputs": [],
     "prompt_number": 40
    },
    {
     "cell_type": "markdown",
     "metadata": {},
     "source": [
      "## Step 3: Define the 'control' signal\n",
      "\n",
      "TODO: make a more interesting control signal, which motivates why someone might want to build a controlled integrator."
     ]
    },
    {
     "cell_type": "code",
     "collapsed": false,
     "input": [
      "# -- create a Control signal that's just a constant over time\n",
      "model.make_input('Control', [1.0])\n",
      "\n",
      "# -- Connect the \"Control\" signal to the second of A's two input channels\n",
      "#    using the `transform` matrix.\n",
      "model.connect('Control', 'A',\n",
      "              #transform=gen_transform(index_post=1),\n",
      "              transform=[[0], [1]],\n",
      "              pstc=0.005)"
     ],
     "language": "python",
     "metadata": {},
     "outputs": [],
     "prompt_number": 41
    },
    {
     "cell_type": "markdown",
     "metadata": {},
     "source": [
      "## Step 4: Define the integrator dynamics\n",
      "\n",
      "We set up integratorconnect population 'A' to itself.\n",
      "We set up feedback in the model to handle integration of the input.\n",
      "The time constant $\\tau$ on the recurrent weights affects both the rate and accuracy of integration, try adjusting it and look what happens.\n"
     ]
    },
    {
     "cell_type": "code",
     "collapsed": false,
     "input": [
      "model.connect('A', 'A',\n",
      "              #transform=gen_transform(index_post = 0),\n",
      "              transform=[[1], [0]],        # -- transform converts function output to new state inputs\n",
      "              func=lambda x: x[0] * x[1],  # -- function is applied first to A\n",
      "              pstc=tau)\n",
      "                                                    # Create the recurrent\n",
      "                                                    #   connection mapping the\n",
      "                                                    #   1D function 'feedback'\n",
      "                                                    #   into the 2D population\n",
      "                                                    #   using the 1 x 2 transform\n",
      "                    \n",
      "p = model.make_probe('A', dt_sample=0.01, pstc=0.01)\n",
      " \n",
      "# Run the model\n",
      "model.run(1)                                        # Run the model for 1 second\n",
      "plot(p.get_data())"
     ],
     "language": "python",
     "metadata": {},
     "outputs": [
      {
       "metadata": {},
       "output_type": "pyout",
       "prompt_number": 42,
       "text": [
        "[<matplotlib.lines.Line2D at 0x4a87750>,\n",
        " <matplotlib.lines.Line2D at 0x4a879d0>]"
       ]
      },
      {
       "metadata": {},
       "output_type": "display_data",
       "png": "[encoded data removed]",
       "text": [
        "<matplotlib.figure.Figure at 0x39e0750>"
       ]
      }
     ],
     "prompt_number": 42
    },
    {
     "cell_type": "code",
     "collapsed": false,
     "input": [],
     "language": "python",
     "metadata": {},
     "outputs": [],
     "prompt_number": 42
    },
    {
     "cell_type": "code",
     "collapsed": false,
     "input": [],
     "language": "python",
     "metadata": {},
     "outputs": [],
     "prompt_number": 42
    }
   ],
   "metadata": {}
  }
 ]
}
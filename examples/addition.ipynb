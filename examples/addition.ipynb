{
 "metadata": {
  "name": ""
 },
 "nbformat": 3,
 "nbformat_minor": 0,
 "worksheets": [
  {
   "cells": [
    {
     "cell_type": "markdown",
     "source": [
      "#Nengo Example: Addition"
     ]
    },
    {
     "cell_type": "markdown",
     "source": [
      "In this example, we will construct a network that adds two inputs. The network utilizes two communication channels into the same neural population. Addition is thus somewhat \u2018free\u2019, since the incoming currents from different synaptic connections interact linearly (though two inputs don\u2019t have to combine in this way: see the combining demo)."
     ]
    },
    {
     "cell_type": "markdown",
     "source": [
      "##Step 1: Create the Model"
     ]
    },
    {
     "cell_type": "markdown",
     "source": [
      "The model has three ensembles, which we will call A, B, and C."
     ]
    },
    {
     "cell_type": "code",
     "collapsed": false,
     "input": [
      "# Create the model object\n",
      "import nengo\n",
      "model = nengo.Model('Addition')\n",
      "\n",
      "with model:\n",
      "# Create 3 ensembles each containing 100 leaky integrate-and-fire neurons\n",
      "    a = nengo.Ensemble(nengo.LIF(100), dimensions=1, label=\"a\")\n",
      "    b = nengo.Ensemble(nengo.LIF(100), dimensions=1, label=\"b\")\n",
      "    c = nengo.Ensemble(nengo.LIF(100), dimensions=1, label=\"c\")"
     ],
     "language": "python",
     "outputs": []
    },
    {
     "cell_type": "markdown",
     "source": [
      "##Step 2: Provide Input to the Model"
     ]
    },
    {
     "cell_type": "markdown",
     "source": [
      "We will use two constant scalar values for the two input signals that drive activity in ensembles A and B. "
     ]
    },
    {
     "cell_type": "code",
     "collapsed": false,
     "input": [
      "with model:\n",
      "    # Create input nodes representing constant values\n",
      "    input_a = nengo.Node(output=0.5, label=\"input a\")\n",
      "    input_b = nengo.Node(output=0.3, label=\"input b\")\n",
      "\n",
      "    # Connect the input nodes to the appropriate ensembles\n",
      "    nengo.Connection(input_a, a)\n",
      "    nengo.Connection(input_b, b)\n",
      "\n",
      "    # Connect input ensembles A and B to output ensemble C\n",
      "    nengo.Connection(a, c)\n",
      "    nengo.Connection(b, c)"
     ],
     "language": "python",
     "outputs": []
    },
    {
     "cell_type": "markdown",
     "source": [
      "##Step 3: Probe Output"
     ]
    },
    {
     "cell_type": "markdown",
     "source": [
      "Let's collect output data from each ensemble and output. "
     ]
    },
    {
     "cell_type": "code",
     "collapsed": false,
     "input": [
      "with model:\n",
      "    ia_p = nengo.Probe(input_a)\n",
      "    ib_p = nengo.Probe(input_b)\n",
      "    a_p = nengo.Probe(a, filter=0.03)\n",
      "    b_p = nengo.Probe(b, filter=0.03)\n",
      "    c_p = nengo.Probe(c, filter=0.03)"
     ],
     "language": "python",
     "outputs": []
    },
    {
     "cell_type": "markdown",
     "source": [
      "##Step 4: Run the Model"
     ]
    },
    {
     "cell_type": "markdown",
     "source": [
      "In order to run the model, we have to create a simulator. Then, we can run that simulator over and over again without affecting the original model."
     ]
    },
    {
     "cell_type": "code",
     "collapsed": false,
     "input": [
      "# Create the simulator\n",
      "sim = nengo.Simulator(model, dt=0.001)\n",
      "# Run it for 5 seconds\n",
      "sim.run(5)"
     ],
     "language": "python",
     "outputs": []
    },
    {
     "cell_type": "markdown",
     "source": [
      "The data produced by running the model can now be plotted."
     ]
    },
    {
     "cell_type": "code",
     "collapsed": false,
     "input": [
      "import matplotlib.pyplot as plt\n",
      "\n",
      "# Plot the input signals and decoded ensemble values\n",
      "sim.plot(a_p)\n",
      "sim.plot(b_p)\n",
      "sim.plot(c_p)\n",
      "sim.plot(ia_p)\n",
      "sim.plot(ib_p)\n",
      "plt.legend()\n",
      "plt.ylim(0, 1);"
     ],
     "language": "python",
     "outputs": []
    },
    {
     "cell_type": "markdown",
     "source": [
      "You can check that the decoded value of the activity in ensemble C provides a good estimate of the sum of inputs A and B."
     ]
    }
   ]
  }
 ]
}
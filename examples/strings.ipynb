{
 "metadata": {
  "name": "",
  "signature": "sha256:41c50e1f36ff69b5c2e1fce1cf200e078817d03e7d5b71bd232d7b638f24c366"
 },
 "nbformat": 3,
 "nbformat_minor": 0,
 "worksheets": [
  {
   "cells": [
    {
     "cell_type": "markdown",
     "metadata": {},
     "source": [
      "# String representations\n",
      "\n",
      "This should be an exhaustive list\n",
      "of the objects that can be created with Nengo,\n",
      "and their string representations."
     ]
    },
    {
     "cell_type": "code",
     "collapsed": false,
     "input": [
      "import numpy as np\n",
      "import nengo\n",
      "\n",
      "with nengo.Network() as net1:\n",
      "\n",
      "    a = nengo.Ensemble(100, 2)\n",
      "    with nengo.Network(label=\"net2\") as net2:\n",
      "        b = nengo.Ensemble(100, 2, label=\"b\")\n",
      "\n",
      "    ap = nengo.Probe(a)\n",
      "    bp = nengo.Probe(b)\n",
      "\n",
      "    c1 = nengo.Connection(a, b)\n",
      "    c2 = nengo.Connection(a, b, function=np.square)\n",
      "\n",
      "    n1 = nengo.Node(output=np.sin)\n",
      "    n2 = nengo.Node(output=np.cos, label=\"n2\")\n",
      "\n",
      "print(\"  str(obj)\")\n",
      "print(\"============\")\n",
      "print(\"--- Network\")\n",
      "print(\"    %s\" % net1)\n",
      "print(\"    %s\" % net2)\n",
      "print(\"--- Ensemble\")\n",
      "print(\"    %s\" % a)\n",
      "print(\"    %s\" % b)\n",
      "print(\"--- Probe\")\n",
      "print(\"    %s\" % ap)\n",
      "print(\"    %s\" % bp)\n",
      "print(\"--- Connection\")\n",
      "print(\"    %s\" % c1)\n",
      "print(\"    %s\" % c2)\n",
      "print(\"--- Node\")\n",
      "print(\"    %s\" % n1)\n",
      "print(\"    %s\" % n2)\n",
      "print(\"--- Neurons\")\n",
      "print(\"    %s\" % a.neurons)\n",
      "print(\"--- ObjView\")\n",
      "print(\"    %s\" % b[:1])\n",
      "print(\"\")\n",
      "\n",
      "print(\"repr(obj)\")\n",
      "print(\"=========\")\n",
      "print(\"--- Network\")\n",
      "print(\"    %r\" % net1)\n",
      "print(\"    %r\" % net2)\n",
      "print(\"--- Ensemble\")\n",
      "print(\"    %r\" % a)\n",
      "print(\"    %r\" % b)\n",
      "print(\"--- Probe\")\n",
      "print(\"    %r\" % ap)\n",
      "print(\"    %r\" % bp)\n",
      "print(\"--- Connection\")\n",
      "print(\"    %r\" % c1)\n",
      "print(\"    %r\" % c2)\n",
      "print(\"--- Node\")\n",
      "print(\"    %r\" % n1)\n",
      "print(\"    %r\" % n2)\n",
      "print(\"--- Neurons\")\n",
      "print(\"    %r\" % a.neurons)\n",
      "print(\"--- ObjView\")\n",
      "print(\"    %r\" % b[:1])"
     ],
     "language": "python",
     "metadata": {},
     "outputs": []
    }
   ],
   "metadata": {}
  }
 ]
}
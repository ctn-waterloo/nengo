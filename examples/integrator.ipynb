{
 "metadata": {
  "name": ""
 },
 "nbformat": 3,
 "nbformat_minor": 0,
 "worksheets": [
  {
   "cells": [
    {
     "cell_type": "markdown",
     "metadata": {},
     "source": [
      "# Nengo Example: Integrator\n",
      "\n",
      "This demo implements a one-dimensional neural integrator.\n",
      "\n",
      "This is the first example of a recurrent network in the demos. It shows how neurons can be used to implement stable dynamics. Such dynamics are important for memory, noise cleanup, statistical inference, and many other dynamic transformations.\n",
      "\n",
      "When you run this demo, it will automatically put in some step functions on the input, so you can see that the output is integrating (i.e. summing over time) the input. You can also input your own values. Note that since the integrator constantly sums its input, it will saturate quickly if you leave the input non-zero. This makes it  clear that neurons have a finite range of representation. Such saturation effects can be exploited to perform useful computations (e.g. soft normalization)."
     ]
    },
    {
     "cell_type": "markdown",
     "metadata": {},
     "source": [
      "## Step 1: Create the neural populations \n",
      "\n",
      "Our model consists of one recurrently connected ensemble, and an input population."
     ]
    },
    {
     "cell_type": "code",
     "collapsed": false,
     "input": [
      "import nengo\n",
      "import nengo.helpers\n",
      "from nengo.objects import Node, Ensemble, DecodedConnection, Connection, Probe\n",
      "\n",
      "model = nengo.Model(label='Integrator')\n",
      "\n",
      "# Our ensemble consists of 100 leaky integrate-and-fire neurons,\n",
      "# representing a one-dimensional signal\n",
      "A = Ensemble(nengo.LIF(100), dimensions=1, label='Integrator')\n",
      "\n"
     ],
     "language": "python",
     "metadata": {},
     "outputs": [],
     "prompt_number": 1
    },
    {
     "cell_type": "markdown",
     "metadata": {},
     "source": [
      "## Step 2: Create input for the model\n",
      "\n",
      "We will use a piecewise step function as input, so we can see the effects of recurrence."
     ]
    },
    {
     "cell_type": "code",
     "collapsed": false,
     "input": [
      "# Create a piecewise step function for input\n",
      "input = Node(nengo.helpers.piecewise({0:0,0.2:1,1:0,2:-2,3:0,4:1,5:0}), label='Piecewise input')\n",
      "\n",
      "print len(model.objs)\n",
      "print len(nengo.context.current().objs)"
     ],
     "language": "python",
     "metadata": {},
     "outputs": [
      {
       "output_type": "stream",
       "stream": "stdout",
       "text": [
        "4\n",
        "4\n"
       ]
      }
     ],
     "prompt_number": 2
    },
    {
     "cell_type": "markdown",
     "metadata": {},
     "source": [
      "## Step 3: Connect the network elements"
     ]
    },
    {
     "cell_type": "code",
     "collapsed": false,
     "input": [
      "# Connect the population to itself\n",
      "tau = 0.1\n",
      "DecodedConnection(A, A, transform=[[1]], filter=tau) #A long time constant for stability\n",
      "\n",
      "# Connect the input\n",
      "Connection(input, A, transform=[[tau]], filter=tau) #The same time constant as recurrent to make it more 'ideal'\n"
     ],
     "language": "python",
     "metadata": {},
     "outputs": [
      {
       "metadata": {},
       "output_type": "pyout",
       "prompt_number": 3,
       "text": [
        "Piecewise input>Integrator (Connection)"
       ]
      }
     ],
     "prompt_number": 3
    },
    {
     "cell_type": "markdown",
     "metadata": {},
     "source": [
      "## Step 4: Probe outputs\n",
      "\n",
      "Anything that is probed will collect the data it produces over time, allowing us to analyze and visualize it later."
     ]
    },
    {
     "cell_type": "code",
     "collapsed": false,
     "input": [
      "# Add probes\n",
      "p1 = Probe(input, 'output')\n",
      "p2 = Probe(A, 'decoded_output', filter=0.01)"
     ],
     "language": "python",
     "metadata": {},
     "outputs": [],
     "prompt_number": 4
    },
    {
     "cell_type": "markdown",
     "metadata": {},
     "source": [
      "## Step 5: Run the model"
     ]
    },
    {
     "cell_type": "code",
     "collapsed": false,
     "input": [
      "# Create our simulator\n",
      "sim = nengo.Simulator(model)\n",
      "# Run it for 6 seconds\n",
      "sim.run(6)"
     ],
     "language": "python",
     "metadata": {},
     "outputs": [],
     "prompt_number": 5
    },
    {
     "cell_type": "markdown",
     "metadata": {},
     "source": [
      "## Step 6: Plot the results"
     ]
    },
    {
     "cell_type": "code",
     "collapsed": false,
     "input": [
      "%matplotlib inline\n",
      "import matplotlib.pyplot as plt\n",
      "\n",
      "# Plot the decoded output of the ensemble\n",
      "t = sim.data(model.t_probe) #Get the time steps\n",
      "plt.plot(t, sim.data(p1), label=\"Input\")\n",
      "plt.plot(t, sim.data(p2), 'k', label=\"Integrator output\")\n",
      "plt.legend()\n",
      "\n",
      "plt.show()"
     ],
     "language": "python",
     "metadata": {},
     "outputs": [
      {
       "metadata": {},
       "output_type": "display_data",
       "png": "[encoded data removed]",
       "text": [
        "<matplotlib.figure.Figure at 0x22ecda0>"
       ]
      }
     ],
     "prompt_number": 6
    },
    {
     "cell_type": "markdown",
     "metadata": {},
     "source": [
      "The graph shows the response to the input by the integrator.  Because it is implemented in neurons, it will not be perfect (i.e. there will be drift).  Running several times will give a sense of the kinds of drift you might expect.  Drift can be reduced by increasing the number of neurons."
     ]
    },
    {
     "cell_type": "code",
     "collapsed": false,
     "input": [],
     "language": "python",
     "metadata": {},
     "outputs": [],
     "prompt_number": 6
    }
   ],
   "metadata": {}
  }
 ]
}
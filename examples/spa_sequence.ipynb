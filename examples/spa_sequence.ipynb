{
 "metadata": {
  "name": "",
  "signature": "sha256:7ff05d1f8967ff20a7affdf4597104357a807689598d8e2f7d17d23d01b74afb"
 },
 "nbformat": 3,
 "nbformat_minor": 0,
 "worksheets": [
  {
   "cells": [
    {
     "cell_type": "markdown",
     "metadata": {},
     "source": [
      "# Nengo Example: Routing Through a Sequence\n",
      "This demo uses the basal ganglia model to cycle through a sequence of five representations. The model incorporates a memory, which allows the basal ganglia to update that memory based on a set of input/action mappings. The mappings are defined in the code such that A->B, B->C, etc. until E->A completing a loop. \n",
      "\n",
      "When you run this demo, the sequence will be repeated indefinitely. It is interesting to note the time between the \u2018peaks\u2019 of the selected items. It's about 40ms for this simple action."
     ]
    },
    {
     "cell_type": "markdown",
     "metadata": {},
     "source": [
      "# Step 1: Define a Rule Set"
     ]
    },
    {
     "cell_type": "code",
     "collapsed": false,
     "input": [
      "import nengo\n",
      "from nengo import spa\n",
      "\n",
      "dimensions = 16\n",
      "\n",
      "class Sequence(spa.SPA):\n",
      "\n",
      "    actions = spa.Actions(\n",
      "        'dot(cortex, A) --> cortex = B',\n",
      "        'dot(cortex, B) --> cortex = C',\n",
      "        'dot(cortex, C) --> cortex = D',\n",
      "        'dot(cortex, D) --> cortex = E',\n",
      "        'dot(cortex, E) --> cortex = A'\n",
      "    )\n",
      "\n",
      "    def __init__(self):\n",
      "        spa.SPA.__init__(self)\n",
      "\n",
      "        self.cortex = spa.Buffer(dimensions=dimensions)\n",
      "        self.bg = spa.BasalGanglia(actions=self.actions)\n",
      "        self.thal = spa.Thalamus(self.bg)\n",
      "\n",
      "        def start(t):\n",
      "            if t < 0.05:\n",
      "                return 'A'\n",
      "            else:\n",
      "                return '0'\n",
      "\n",
      "        self.input = spa.Input(cortex=start)\n",
      "                \n",
      "model = Sequence(label='Sequence_Module')\n",
      "\n",
      "with model:    \n",
      "    p_state = nengo.Probe(model.cortex.state.output, synapse=0.01)\n",
      "    p_actions = nengo.Probe(model.thal.actions.output, synapse=0.01)\n",
      "    p_utility = nengo.Probe(model.bg.input, synapse=0.01)\n",
      "\n",
      "\n",
      "sim = nengo.Simulator(model)\n",
      "sim.run(0.5)"
     ],
     "language": "python",
     "metadata": {},
     "outputs": []
    },
    {
     "cell_type": "code",
     "collapsed": false,
     "input": [
      "import numpy as np\n",
      "%matplotlib inline\n",
      "import matplotlib.pyplot as plt\n",
      "fig = plt.figure(figsize=(12,8))\n",
      "p1 = fig.add_subplot(3,1,1)\n",
      "\n",
      "p1.plot(sim.trange(), spa.similarity(sim.data, p_state))\n",
      "p1.legend(p_state.target.vocab.keys, fontsize='x-small')\n",
      "p1.set_ylabel('State')\n",
      "\n",
      "p2 = fig.add_subplot(3,1,2)\n",
      "p2.plot(sim.trange(), sim.data[p_actions])\n",
      "p2.set_ylabel('Action')\n",
      "\n",
      "p3 = fig.add_subplot(3,1,3)\n",
      "p3.plot(sim.trange(), sim.data[p_utility])\n",
      "p3.set_ylabel('Utility')\n",
      "fig.subplots_adjust(hspace=0.2)"
     ],
     "language": "python",
     "metadata": {},
     "outputs": []
    }
   ],
   "metadata": {}
  }
 ]
}
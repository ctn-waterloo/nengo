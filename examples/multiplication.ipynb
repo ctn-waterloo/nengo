{
 "metadata": {
  "name": "multiplication"
 },
 "nbformat": 3,
 "nbformat_minor": 0,
 "worksheets": [
  {
   "cells": [
    {
     "cell_type": "markdown",
     "metadata": {},
     "source": [
      "# Nengo Example: Multiplication"
     ]
    },
    {
     "cell_type": "markdown",
     "metadata": {},
     "source": [
      "This example will show you how to multiply two values. The model architecture can be thought of as a combination of the combining demo and the squaring demo. Essentially, we project both inputs independently into a 2D space, and then decode a nonlinear transformation of that space (the product of the first and second vector elements)."
     ]
    },
    {
     "cell_type": "markdown",
     "metadata": {},
     "source": [
      "## Step 1: Create the Model"
     ]
    },
    {
     "cell_type": "markdown",
     "metadata": {},
     "source": [
      "The model has four ensembles: two input ensembles ('A' and 'B'), a 2D combined ensemble ('Combined'), and an output ensemble ('D')."
     ]
    },
    {
     "cell_type": "code",
     "collapsed": false,
     "input": [
      "# Create the model object\n",
      "import nengo\n",
      "model = nengo.Model('Multiplication')\n",
      "\n",
      "# Create 4 ensembles of leaky integrate-and-fire neurons\n",
      "model.make_ensemble('A', nengo.LIF(100), dimensions=1, radius=10)\n",
      "model.make_ensemble('B', nengo.LIF(100), dimensions=1, radius=10)\n",
      "model.make_ensemble('Combined', nengo.LIF(225), dimensions=2, radius=15)\n",
      "model.make_ensemble('D', nengo.LIF(100), dimensions=1, radius=100)"
     ],
     "language": "python",
     "metadata": {},
     "outputs": [
      {
       "output_type": "pyout",
       "prompt_number": 1,
       "text": [
        "<nengo.objects.Ensemble at 0x10ab59550>"
       ]
      }
     ],
     "prompt_number": 1
    },
    {
     "cell_type": "markdown",
     "metadata": {},
     "source": [
      "##Step 2: Provide Input to the Model"
     ]
    },
    {
     "cell_type": "markdown",
     "metadata": {},
     "source": [
      "We will use two constant scalar values for the two input signals that drive activity in ensembles A and B."
     ]
    },
    {
     "cell_type": "code",
     "collapsed": false,
     "input": [
      "# Create input nodes representing constant values\n",
      "model.make_node('Input A', output = 8)\n",
      "model.make_node('Input B', output = 5)\n",
      "\n",
      "# Connect the input nodes to the appropriate ensembles\n",
      "model.connect('Input A', 'A')\n",
      "model.connect('Input B', 'B')\n",
      "\n",
      "# Connect input ensembles A and B to the 2D combined ensemble\n",
      "model.connect('A','Combined', transform=[[1], [0]])\n",
      "model.connect('B','Combined', transform=[[0], [1]])\n",
      "\n",
      "# Define a function that computes the multiplication of two inputs\n",
      "def product(x):\n",
      "    return x[0]*x[1]\n",
      "\n",
      "# Connect the combined ensemble to the output ensemble D\n",
      "model.connect('Combined', 'D', function=product)\n"
     ],
     "language": "python",
     "metadata": {},
     "outputs": [
      {
       "output_type": "pyout",
       "prompt_number": 2,
       "text": [
        "Combined>D:product (DecodedNeuronConnection)"
       ]
      }
     ],
     "prompt_number": 2
    },
    {
     "cell_type": "markdown",
     "metadata": {},
     "source": [
      "##Step 3: Probe the Output"
     ]
    },
    {
     "cell_type": "markdown",
     "metadata": {},
     "source": [
      "Let's collect output data from each ensemble and input."
     ]
    },
    {
     "cell_type": "code",
     "collapsed": false,
     "input": [
      "model.probe('Input A')\n",
      "model.probe('Input B')\n",
      "model.probe('A', filter=0.01)\n",
      "model.probe('B', filter=0.01)\n",
      "model.probe('Combined', filter=0.01)\n",
      "model.probe('D', filter=0.01)"
     ],
     "language": "python",
     "metadata": {},
     "outputs": [],
     "prompt_number": 3
    },
    {
     "cell_type": "markdown",
     "metadata": {},
     "source": [
      "## Step 4: Run the Model"
     ]
    },
    {
     "cell_type": "markdown",
     "metadata": {},
     "source": [
      "In order to run the model, we have to create a simulator. Then, we can run that simulator over and over again without affecting the original model."
     ]
    },
    {
     "cell_type": "code",
     "collapsed": false,
     "input": [
      "# Create the simulator\n",
      "sim = model.simulator()\n",
      "# Run it for 5 seconds\n",
      "sim.run(5)"
     ],
     "language": "python",
     "metadata": {},
     "outputs": [],
     "prompt_number": 4
    },
    {
     "cell_type": "markdown",
     "metadata": {},
     "source": [
      "To check the performance of the model, plot the input signals and decoded ensemble values. "
     ]
    },
    {
     "cell_type": "code",
     "collapsed": false,
     "input": [
      "%matplotlib inline\n",
      "import matplotlib.pyplot as plt\n",
      "\n",
      "# Plot the input signals and decoded ensemble values\n",
      "t = sim.data(model.t)\n",
      "plt.plot(t, sim.data('A'), label=\"Decoded Ensemble A\")\n",
      "plt.plot(t, sim.data('B'), label=\"Decoded Ensemble B\")\n",
      "plt.plot(t, sim.data('D'), label=\"Decoded Ensemble D\")\n",
      "plt.plot(t, sim.data('Input A'), label=\"Input A\", color='k', linewidth=2.0)\n",
      "plt.plot(t, sim.data('Input B'), label=\"Input B\", color='0.75', linewidth=2.0)\n",
      "plt.legend()\n",
      "plt.ylim(0, 50)"
     ],
     "language": "python",
     "metadata": {},
     "outputs": [
      {
       "output_type": "stream",
       "stream": "stderr",
       "text": [
        "ERROR: Line magic function `%matplotlib` not found."
       ]
      },
      {
       "output_type": "pyout",
       "prompt_number": 6,
       "text": [
        "(0, 50)"
       ]
      },
      {
       "output_type": "display_data",
       "png": "[encoded data removed]"
      }
     ],
     "prompt_number": 6
    },
    {
     "cell_type": "markdown",
     "metadata": {},
     "source": [
      "The decoded output value should be a good estimate of the product of the two input values. "
     ]
    }
   ],
   "metadata": {}
  }
 ]
}